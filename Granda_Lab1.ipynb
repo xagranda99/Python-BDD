{
  "nbformat": 4,
  "nbformat_minor": 0,
  "metadata": {
    "colab": {
      "name": "Granda-Lab1.ipynb",
      "provenance": [],
      "toc_visible": true
    },
    "kernelspec": {
      "name": "python3",
      "display_name": "Python 3"
    },
    "language_info": {
      "name": "python"
    }
  },
  "cells": [
    {
      "cell_type": "markdown",
      "source": [
        "# IMPORTAR LIBRERIAS"
      ],
      "metadata": {
        "id": "xLmvJAgcyoRx"
      }
    },
    {
      "cell_type": "code",
      "execution_count": null,
      "metadata": {
        "id": "xhhMqjz126Qt"
      },
      "outputs": [],
      "source": [
        "import glob \n",
        "import pandas as pd \n",
        "from datetime import datetime\n",
        "import requests\n",
        "from zipfile import ZipFile"
      ]
    },
    {
      "cell_type": "markdown",
      "source": [
        "# CARGA DEL ARCHIVO\n"
      ],
      "metadata": {
        "id": "UW4utzduyuZS"
      }
    },
    {
      "cell_type": "code",
      "source": [
        "print('Iniciar descarga de archivos - Granda Xavier')\n",
        "remote_url = 'http://cf-courses-data.s3.us.cloud-object-storage.appdomain.cloud/IBMDeveloperSkillsNetwork-PY0221EN-SkillsNetwork/labs/module%206/Lab%20-%20Extract%20Transform%20Load/data/datasource.zip'\n",
        "local_file = 'datasource.zip'\n",
        "data = requests.get(remote_url)\n",
        "with open(local_file, 'wb') as f:\n",
        "    f.write(data.content)\n",
        "with ZipFile(local_file, 'r') as zipObj:\n",
        "# Extrae todo el contenido del archivo zip en un directorio diferente.\n",
        "    zipObj.extractall('dealership_data')"
      ],
      "metadata": {
        "id": "_NRgwbSlyyXD"
      },
      "execution_count": null,
      "outputs": []
    },
    {
      "cell_type": "markdown",
      "source": [
        "# EXTRAER"
      ],
      "metadata": {
        "id": "Q1I7tLI0y8LD"
      }
    },
    {
      "cell_type": "code",
      "source": [
        "def extract_from_csv(file_to_process): \n",
        "    dataframe = pd.read_csv(file_to_process) \n",
        "    return dataframe\n",
        "\n",
        "def extract_from_json(file_to_process):\n",
        "    dataframe = pd.read_json(file_to_process, lines=True)\n",
        "    return dataframe    \n",
        "\n",
        "def extract():\n",
        "    extracted_data = pd.DataFrame(columns=['modelo_auto','anio_fabricacion','precio', 'combustible']) \n",
        "    #for csv files\n",
        "    for csvfile in glob.glob(\"dealership_data/*.csv\"):\n",
        "        extracted_data = extracted_data.append(extract_from_csv(csvfile), ignore_index=True)\n",
        "    #for json files\n",
        "    for jsonfile in glob.glob(\"dealership_data/*.json\"):\n",
        "        extracted_data = extracted_data.append(extract_from_json(jsonfile), ignore_index=True)\n",
        "    return extracted_data "
      ],
      "metadata": {
        "id": "OAmS8-tVy-eZ"
      },
      "execution_count": null,
      "outputs": []
    },
    {
      "cell_type": "markdown",
      "source": [
        "# TRANSFORMAR\n"
      ],
      "metadata": {
        "id": "iXochEmizB67"
      }
    },
    {
      "cell_type": "code",
      "source": [
        "def transform(data):\n",
        "    data['price'] = round(data.price, 2)\n",
        "    return data\n"
      ],
      "metadata": {
        "id": "R5XFipgnzFPU"
      },
      "execution_count": null,
      "outputs": []
    },
    {
      "cell_type": "markdown",
      "source": [
        "# CARGAR\n"
      ],
      "metadata": {
        "id": "XkVzW9lMzGQY"
      }
    },
    {
      "cell_type": "code",
      "source": [
        "def load(targetfile, data_to_load):\n",
        "    data_to_load.to_csv(targetfile)"
      ],
      "metadata": {
        "id": "HQczroVuzJ3u"
      },
      "execution_count": null,
      "outputs": []
    },
    {
      "cell_type": "markdown",
      "source": [
        "# Log"
      ],
      "metadata": {
        "id": "Jtf9ZETFzRmz"
      }
    },
    {
      "cell_type": "code",
      "source": [
        "def log(logfile, message):\n",
        "    timestamp_format = '%H:%M:%S-%h-%d-%Y'\n",
        "    #Hour-Minute-Second-MonthName-Day-Year\n",
        "    now = datetime.now() # get current timestamp\n",
        "    timestamp = now.strftime(timestamp_format)\n",
        "    with open(logfile,\"a\") as f: \n",
        "        f.write('[' + timestamp + ']: ' + message + '\\n')\n",
        "        print(message)"
      ],
      "metadata": {
        "id": "5fTC8-lCzVSR"
      },
      "execution_count": null,
      "outputs": []
    },
    {
      "cell_type": "markdown",
      "source": [
        "# EJECUCION"
      ],
      "metadata": {
        "id": "p1CmZAlHzNW6"
      }
    },
    {
      "cell_type": "code",
      "source": [
        "if __name__ == '__main__':\n",
        "\n",
        "    logfile    = \"dealership_logfile.txt\"            \n",
        "    # todos los eventos se registraran\n",
        "    targetfile = \"dealership_transformed_data.csv\"   \n",
        "    # Los datos transformados se registraran\n",
        "\n",
        "    log(logfile, \"ETL Trabajo iniciado\")\n",
        "\n",
        "    log(logfile, \"Inicia Fase De Extraccion\")\n",
        "    extracted_data = extract()\n",
        "    print(extracted_data)\n",
        "    log(logfile, \"Finaliza Fase De Extraccion\")\n",
        "\n",
        "    log(logfile, \"Inicia Fase De Transformacion\")\n",
        "    transformed_data = transform(extracted_data)\n",
        "    print(transformed_data)\n",
        "    log(logfile, \"Finaliza Fase De Transformacion\")\n",
        "\n",
        "    log(logfile, \"Inicia Fase De Carga\")\n",
        "    load(targetfile, transformed_data)\n",
        "    log(logfile, \"Finaliza Fase De Carga\")"
      ],
      "metadata": {
        "id": "D8SNIxj4zPUH"
      },
      "execution_count": null,
      "outputs": []
    }
  ]
}